{
  "nbformat": 4,
  "nbformat_minor": 0,
  "metadata": {
    "colab": {
      "name": "final.ipynb",
      "provenance": []
    },
    "kernelspec": {
      "name": "python3",
      "display_name": "Python 3"
    },
    "language_info": {
      "name": "python"
    }
  },
  "cells": [
    {
      "cell_type": "code",
      "source": [
        "# All import and installation\n",
        "!pip install pyspark\n",
        "import pyspark\n",
        "sc = pyspark.SparkContext('local[*]')\n"
      ],
      "metadata": {
        "id": "08L3CmxwcjAX"
      },
      "execution_count": null,
      "outputs": []
    },
    {
      "cell_type": "code",
      "source": [
        "!apt-get update\n",
        "!apt-get install openjdk-8-jdk-headless -qq > /dev/null\n",
        "!wget -q http://a...content-available-to-author-only...e.org/dist/spark/spark-2.3.1/spark-2.3.1-bin-hadoop2.7.tgz\n",
        "!tar xf spark-2.3.1-bin-hadoop2.7.tgz\n",
        "!pip install -q findspark\n",
        " \n",
        "import os\n",
        "os.environ[\"JAVA_HOME\"] = \"/usr/lib/jvm/java-8-openjdk-amd64\"\n",
        "os.environ[\"SPARK_HOME\"] = \"/content/spark-2.3.1-bin-hadoop2.7\"\n",
        " \n",
        "!ls\n",
        " \n",
        "import findspark\n",
        "findspark.init()\n",
        " \n",
        "import pyspark\n",
        "from pyspark.sql import SparkSession\n",
        "spark = SparkSession.builder.getOrCreate() \n",
        "spark"
      ],
      "metadata": {
        "id": "aCwrbfNZcukz"
      },
      "execution_count": null,
      "outputs": []
    },
    {
      "cell_type": "code",
      "source": [
        "#Query number 1\n",
        "#Retrive the first 10 records\n",
        "data=sc.textFile(\"/content/1.out\")\n",
        "data.take(10)"
      ],
      "metadata": {
        "id": "nQ4yGqj_cxbK",
        "colab": {
          "base_uri": "https://localhost:8080/"
        },
        "outputId": "3e7dfd47-4a15-4f36-964a-fa3674b52b2c"
      },
      "execution_count": null,
      "outputs": [
        {
          "output_type": "execute_result",
          "data": {
            "text/plain": [
              "['aa 271_a.C 1 4675',\n",
              " 'aa Category:User_th 1 4770',\n",
              " 'aa Chiron_Elias_Krase 1 4694',\n",
              " 'aa Dassault_rafaele 2 9372',\n",
              " 'aa E.Desv 1 4662',\n",
              " 'aa File:Wiktionary-logo-en.png 1 10752',\n",
              " 'aa Indonesian_Wikipedia 1 4679',\n",
              " 'aa Main_Page 5 266946',\n",
              " 'aa Requests_for_new_languages/Wikipedia_Banyumasan 1 4733',\n",
              " 'aa Special:Contributions/203.144.160.245 1 5812']"
            ]
          },
          "metadata": {},
          "execution_count": 3
        }
      ]
    },
    {
      "cell_type": "code",
      "source": [
        "#Q2-->max for page size\n",
        "\n",
        "def parse(line):\n",
        "  collomns=line.split(\" \")\n",
        "  pagesize=float(collomns[3])\n",
        "  key=0\n",
        "  return(key,pagesize)\n",
        "data=sc.textFile(\"/content/1.out\")\n",
        "pagesize=data.map(parse)\n",
        "maxx=pagesize.reduceByKey(lambda x , y: max(x,y))\n",
        "maxx.saveAsTextFile('max.tx')\n"
      ],
      "metadata": {
        "id": "afapYpCFdJlO"
      },
      "execution_count": null,
      "outputs": []
    },
    {
      "cell_type": "code",
      "source": [
        "#Q2-->min for page size\n",
        "def parse_linee(line):\n",
        "  col=line.split(\" \")\n",
        "  pagesize=float(col[3])\n",
        "  key=0\n",
        "  return (key,pagesize)\n",
        "data=sc.textFile(\"/content/1.out\")\n",
        "pagesize=data.map(parse_linee)\n",
        "minn=pagesize.reduceByKey(lambda x , y: min(x,y))\n",
        "minn.saveAsTextFile('min.tx')"
      ],
      "metadata": {
        "id": "bi-RYVQkdUTt"
      },
      "execution_count": null,
      "outputs": []
    },
    {
      "cell_type": "code",
      "source": [
        "#Q2-->avg for page size\n",
        "def parsee(line):\n",
        "  col=line.split(\" \")\n",
        "  page_size=float(col[3])\n",
        "  return (page_size)\n",
        "data=sc.textFile(\"/content/1.out\")\n",
        "page_size=data.map(parsee)\n",
        "listofavg=[]\n",
        "resultt=page_size.mean()\n",
        "listofavg.append(resultt)\n",
        "final_rdd=sc.parallelize(listofavg)\n",
        "final_rdd.saveAsTextFile('avg.tx')"
      ],
      "metadata": {
        "id": "QQNw4qKadW49"
      },
      "execution_count": null,
      "outputs": []
    },
    {
      "cell_type": "code",
      "source": [
        "#Query number 3\n",
        "#number of page title start with The and not en\n",
        "import re\n",
        "def parse_data(line):\n",
        "  collomns=line.split(\" \")\n",
        "  return(collomns[0],collomns[1])\n",
        "data=sc.textFile(\"/content/1.out\")\n",
        "page_title=data.map(parse_data)\n",
        "result=page_title.filter(lambda x: (x[1].startswith('The'))&('en'!= x[0]))\n",
        "pagetitlecount=result.distinct().count()\n",
        "listcount=[]\n",
        "listcount.insert(0,pagetitlecount)\n",
        "rddd=sc.parallelize(listcount)\n",
        "rddd.saveAsTextFile('ya_rab.tx')"
      ],
      "metadata": {
        "id": "KhZfhTdHf5wP"
      },
      "execution_count": null,
      "outputs": []
    },
    {
      "cell_type": "code",
      "source": [
        "#Query number 4\n",
        "#number of unique terms in page title\n",
        "import re\n",
        "\n",
        "\n",
        "def parseLine(line):\n",
        " fields = line.split(\" \")\n",
        " f1=fields[1]\n",
        " s = re.sub(r'[^a-zA-Z_]','', f1).upper()\n",
        " return s\n",
        "\n",
        "def parseLine22(line):\n",
        " fields = line.split(\"_\")\n",
        " return fields\n",
        "data=sc.textFile(\"/content/1.out\")\n",
        "pagetitle=data.map(parseLine)# page title\n",
        "page_titlev2=pagetitle.map(parseLine22)\n",
        "r1=page_titlev2.flatMap(lambda x:x).distinct().count()\n",
        "list4=[]\n",
        "list4.insert(0,r1)\n",
        "sc.parallelize(list4).saveAsTextFile('queryfour')#list RDD"
      ],
      "metadata": {
        "id": "fTL6S_mFf8_r"
      },
      "execution_count": null,
      "outputs": []
    },
    {
      "cell_type": "code",
      "source": [
        "#Query number 5\n",
        "#most frequent occuring page title in the data set\n",
        "def parseLine(line):\n",
        " fields = line.split(\" \")\n",
        " return (fields[1])\n",
        "data=sc.textFile(\"/content/1.out\")\n",
        "pagetitle=data.map(parseLine)\n",
        "test=pagetitle.map(lambda x: (x,1))\n",
        "test2=test.groupByKey()\n",
        "test3=test2.mapValues(sum).map(lambda x:(x[1],x[0])).sortByKey(False)\n",
        "sc.parallelize(test3.take(1)).saveAsTextFile('queryfive')"
      ],
      "metadata": {
        "id": "poTO3wrUf_uI"
      },
      "execution_count": null,
      "outputs": []
    }
  ]
}